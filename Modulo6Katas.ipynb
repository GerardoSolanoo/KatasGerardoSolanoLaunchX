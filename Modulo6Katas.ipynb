{
 "cells": [
  {
   "cell_type": "markdown",
   "metadata": {},
   "source": [
    "## Ejercicio1: Crear y usar listas de Python\n",
    "Ejercicio: Usar listas para almacenar nombres de planetas\n",
    "\n",
    "Las listas permiten almacenar varios valores en una sola variable. Comenzarás un proyecto sobre información planetaria creando una lista de planetas."
   ]
  },
  {
   "cell_type": "code",
   "execution_count": 14,
   "metadata": {},
   "outputs": [
    {
     "name": "stdout",
     "output_type": "stream",
     "text": [
      "En el sistema hay un número de 8 planetas\n"
     ]
    }
   ],
   "source": [
    "planets = [\"Mercurio\", \"Venus\", \"Tierra\", \"Marte\", \"Júpiter\", \"Satúrno\", \"Urano\", \"Neptuno\"]\n",
    "print(\"En el sistema hay un número de\", len(planets) ,\"planetas\")"
   ]
  },
  {
   "cell_type": "code",
   "execution_count": 15,
   "metadata": {},
   "outputs": [
    {
     "name": "stdout",
     "output_type": "stream",
     "text": [
      "El último planeta es:  Plutón\n"
     ]
    }
   ],
   "source": [
    "planets.append(\"Plutón\")\n",
    "print(\"El último planeta es: \", planets[-1])"
   ]
  },
  {
   "cell_type": "markdown",
   "metadata": {},
   "source": [
    "## Ejercicio 2: Trabajando con datos de una lista\n",
    "Usar slices para recuperar partes de una lista\n",
    "\n",
    "Es posible que debas trabajar con diferentes secciones de una lista. En nuestro ejemplo, queremos mostrar planetas más cerca y más lejos del sol de un planeta que el usuario ingresa por teclado.\n",
    "\n",
    "Comienza agregando el código para crear una lista con los planetas."
   ]
  },
  {
   "cell_type": "code",
   "execution_count": 19,
   "metadata": {},
   "outputs": [
    {
     "name": "stdout",
     "output_type": "stream",
     "text": [
      "Los planetas cercanos al sol que acompañan a el planeta Tierra son los siguientes\n",
      "['Mercurio', 'Venus']\n",
      "Los planetas alejados al sol que acompañan a el planeta Tierra son los siguientes\n",
      "['Marte', 'Júpiter', 'Satúrno', 'Urano', 'Neptuno']\n"
     ]
    }
   ],
   "source": [
    "planets = [\"Mercurio\", \"Venus\", \"Tierra\", \"Marte\", \"Júpiter\", \"Satúrno\", \"Urano\", \"Neptuno\"]\n",
    "pl_searh = input(\"Ingrese el nombre de el planeta a buscar (respetando signos de puntuación y mayúsculas)\")\n",
    "\n",
    "userIndex= planets.index(pl_searh)\n",
    "print(\"Los planetas cercanos al sol que acompañan a el planeta\" ,pl_searh ,\"son los siguientes\")\n",
    "print(planets[0:userIndex])\n",
    "\n",
    "print(\"Los planetas alejados al sol que acompañan a el planeta\" ,pl_searh ,\"son los siguientes\")\n",
    "print(planets[userIndex + 1:])"
   ]
  }
 ],
 "metadata": {
  "interpreter": {
   "hash": "e572d4a7bbad4adb34311728329ca57a1abb5afe7cb64c355ee41757d3ddb606"
  },
  "kernelspec": {
   "display_name": "Python 3.10.2 64-bit",
   "language": "python",
   "name": "python3"
  },
  "language_info": {
   "codemirror_mode": {
    "name": "ipython",
    "version": 3
   },
   "file_extension": ".py",
   "mimetype": "text/x-python",
   "name": "python",
   "nbconvert_exporter": "python",
   "pygments_lexer": "ipython3",
   "version": "3.10.2"
  },
  "orig_nbformat": 4
 },
 "nbformat": 4,
 "nbformat_minor": 2
}
