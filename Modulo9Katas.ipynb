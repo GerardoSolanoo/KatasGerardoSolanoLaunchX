{
 "cells": [
  {
   "cell_type": "markdown",
   "metadata": {},
   "source": [
    "## Ejercicio: Uso de funciones en Python\n",
    "Ejercicio 1: Trabajar con argumentos en funciones\n",
    "\n",
    "Los argumentos requeridos en las funciones se utilizan cuando las funciones necesitan que esos argumentos funcionen correctamente. En este ejercicio, construirás un informe de combustible que requiere información de varias ubicaciones de combustible en todo el cohete."
   ]
  },
  {
   "cell_type": "code",
   "execution_count": 3,
   "metadata": {},
   "outputs": [
    {
     "name": "stdout",
     "output_type": "stream",
     "text": [
      "Informe de combustible:\n",
      "    Promedio total: 43.666666666666664%\n",
      "    Tanque principal: 55%\n",
      "    Tanque secundario: 30%\n",
      "    Tanque adicional: 46%\n",
      "    \n"
     ]
    }
   ],
   "source": [
    "def form_tanks(principal_tank, secundary_tank, addiotional_tank):\n",
    "    promediototal = (principal_tank + secundary_tank + addiotional_tank) / 3\n",
    "    return f\"\"\"Informe de combustible:\n",
    "    Promedio total: {promediototal}%\n",
    "    Tanque principal: {principal_tank}%\n",
    "    Tanque secundario: {secundary_tank}%\n",
    "    Tanque adicional: {addiotional_tank}%\n",
    "    \"\"\"\n",
    "print(form_tanks(55, 30, 46))\n",
    "\n",
    "def promedio(values):\n",
    "    total= sum(values)\n",
    "    no_items = len(values)\n",
    "    return total / no_items\n",
    "\n",
    "promedio([65, 70, 75]) \n"
   ]
  },
  {
   "cell_type": "code",
   "execution_count": 5,
   "metadata": {},
   "outputs": [
    {
     "name": "stdout",
     "output_type": "stream",
     "text": [
      "Informe de combustible:\n",
      "    Promedio total: 67.33333333333333%\n",
      "    Tanque principal: 57%\n",
      "    Tanque secundario: 80%\n",
      "    Tanque adicional: 65% \n",
      "    \n"
     ]
    }
   ],
   "source": [
    "def generate_report(principal_tank, secundary_tank, additional_tank):\n",
    "    return f\"\"\"Informe de combustible:\n",
    "    Promedio total: {promedio([principal_tank, secundary_tank, additional_tank])}%\n",
    "    Tanque principal: {principal_tank}%\n",
    "    Tanque secundario: {secundary_tank}%\n",
    "    Tanque adicional: {additional_tank}% \n",
    "    \"\"\"\n",
    "print(generate_report(57, 80, 65))\n"
   ]
  },
  {
   "cell_type": "markdown",
   "metadata": {},
   "source": [
    "## Ejercicio 2: Trabajo con argumentos de palabra clave\n",
    "Ejercicio : Trabajar con argumentos de palabras clave en funciones\n",
    "\n",
    "En este ejercicio, construirás un informe de cohete que requiere varias piezas de información, como el tiempo hasta el destino, el combustible a la izquierda y el nombre del destino. Comienza por crear una función que creará un informe preciso de la misión:"
   ]
  },
  {
   "cell_type": "code",
   "execution_count": 7,
   "metadata": {},
   "outputs": [
    {
     "name": "stdout",
     "output_type": "stream",
     "text": [
      "Inform:\n",
      "    Tiempo de viaje: 60 minutos\n",
      "    Destino: Tierra\n",
      "    Combustible total: Tienes 12000 litros de combustible disponible\n",
      "    \n"
     ]
    }
   ],
   "source": [
    "def mission_form(prelaunc_h, time_infly, destiny, extern_tank, intern_tank):\n",
    "    return f\"\"\"Inform:\n",
    "    Tiempo de viaje: {prelaunc_h + time_infly} minutos\n",
    "    Destino: {destiny}\n",
    "    Combustible restante: Tienes {extern_tank + intern_tank} litros de combustible disponible\n",
    "    \"\"\"\n",
    "print(mission_form(20, 40, \"Tierra\", 5000, 7000))"
   ]
  },
  {
   "cell_type": "code",
   "execution_count": 13,
   "metadata": {},
   "outputs": [
    {
     "name": "stdout",
     "output_type": "stream",
     "text": [
      "Inform:\n",
      "    Destino: Tierra\n",
      "    Tiempo de viaje: 60 minutos\n",
      "    Combustible restante: Tienes 120000 litros de combustible disponible\n",
      "    \n"
     ]
    }
   ],
   "source": [
    "def mission_form(destiny, *minutes, **fuel_reservoirs):\n",
    "    return f\"\"\"Inform:\n",
    "    Destino: {destiny}\n",
    "    Tiempo de viaje: {sum(minutes)} minutos\n",
    "    Combustible restante: Tienes {sum(fuel_reservoirs.values())} litros de combustible disponible\n",
    "    \"\"\"\n",
    "\n",
    "print(mission_form(\"Tierra\", 11, 9, 40, extern_tank=100000, intern_tank=20000))"
   ]
  },
  {
   "cell_type": "code",
   "execution_count": 17,
   "metadata": {},
   "outputs": [
    {
     "name": "stdout",
     "output_type": "stream",
     "text": [
      "\n",
      "    Destino: Tierra\n",
      "    Tiempo de viaje: 60 minutos\n",
      "    Combustible restante: Tienes 475000 litros de combustible disponible\n",
      "    extern_tank Combustible:--- 300000 litros restantes----\n",
      "intern_tank Combustible:--- 175000 litros restantes----\n",
      "\n"
     ]
    }
   ],
   "source": [
    "def mission_form(destiny, *minutes, **fuel_reservoirs):\n",
    "    principalr=f\"\"\"\n",
    "    Destino: {destiny}\n",
    "    Tiempo de viaje: {sum(minutes)} minutos\n",
    "    Combustible restante: Tienes {sum(fuel_reservoirs.values())} litros de combustible disponible\n",
    "    \"\"\"\n",
    "    for tank_name, litros in fuel_reservoirs.items():\n",
    "        principalr += f\"{tank_name} Combustible:--- {litros} litros restantes----\\n\"\n",
    "    return principalr\n",
    "print(mission_form(\"Tierra\", 11, 9, 40, extern_tank=300000, intern_tank=175000))"
   ]
  }
 ],
 "metadata": {
  "interpreter": {
   "hash": "e572d4a7bbad4adb34311728329ca57a1abb5afe7cb64c355ee41757d3ddb606"
  },
  "kernelspec": {
   "display_name": "Python 3.10.2 64-bit",
   "language": "python",
   "name": "python3"
  },
  "language_info": {
   "codemirror_mode": {
    "name": "ipython",
    "version": 3
   },
   "file_extension": ".py",
   "mimetype": "text/x-python",
   "name": "python",
   "nbconvert_exporter": "python",
   "pygments_lexer": "ipython3",
   "version": "3.10.2"
  },
  "orig_nbformat": 4
 },
 "nbformat": 4,
 "nbformat_minor": 2
}
